{
 "cells": [
  {
   "cell_type": "markdown",
   "metadata": {},
   "source": [
    "# 00 - Optional homework\n",
    "\n",
    "For this initial homework we will be working with a [dataset](https://github.com/fivethirtyeight/guns-data/blob/master/interactive_data.csv) available as a part of an interesting analysis of [gunshot deaths in the US](http://fivethirtyeight.com/features/gun-deaths/). The goal of this optional homework is to carefully go through the interactive visualization portrayed at the top of the aforementioned article, and use an IPython Notebook to reproduce the following claims made in the visualization:\n",
    "- Nearly *two-thirds* of gun deaths are *suicides*.\n",
    "- More than *85 percent* of suicide victims are *male*.\n",
    "- Around *a third* of all gun deaths are *homicides*.\n",
    "- Around *two-thirds* of homicide victims who are *males* in the *age-group of 15--34* are *black*.\n",
    "- *Women* constitue only *15 percent* of the total *homicide* victims.\n",
    "\n",
    "It's not necessary to generate visualizations for the results -- numbers should be more than enough to convince yourself that you \n",
    "were able to reproduce the results of that article.\n",
    "\n",
    "You can use this opportunity first of all to refresh your Python skills. If you are coming from another programming language\n",
    "(especially a static PL like Java and C++), we recommend you to take a look at this presentation:\n",
    "[Code Like a Pythonista: Idiomatic Python](http://www.omahapython.org/IdiomaticPython.html) -- it will teach\n",
    "you how to write nice Python code, while at the same time getting you up to speed with the syntax.\n",
    "Feel free to explore more advanced libraries (like [Pandas](http://pandas.pydata.org/)) if you really want, but keep in mind that you\n",
    "should be able to reproduce the results with the Python Standard Library.\n",
    "One advantage of using only the PSL is that once you will get knowledgeable about Pandas you will appreciate how much more concise\n",
    "and readable your code will become :)\n",
    "\n",
    "Credits to [Michele Catasta](https://github.com/pirroh), on whose material this version is based.\n"
   ]
  },
  {
   "cell_type": "code",
   "execution_count": 2,
   "metadata": {},
   "outputs": [],
   "source": [
    "import numpy as np\n",
    "import pandas as pd\n",
    "import matplotlib.pyplot as plt\n",
    "%matplotlib inline"
   ]
  },
  {
   "cell_type": "code",
   "execution_count": 3,
   "metadata": {},
   "outputs": [],
   "source": [
    "import json"
   ]
  },
  {
   "cell_type": "code",
   "execution_count": 12,
   "metadata": {},
   "outputs": [
    {
     "data": {
      "text/plain": [
       "['Unnamed: 0',\n",
       " 'Intent',\n",
       " 'Gender',\n",
       " 'Age',\n",
       " 'Race',\n",
       " 'Deaths',\n",
       " 'Population',\n",
       " 'Rate']"
      ]
     },
     "execution_count": 12,
     "metadata": {},
     "output_type": "execute_result"
    }
   ],
   "source": [
    "df = pd.read_csv(r'./data/interactive_data.csv')\n",
    "df.columns.values.tolist()"
   ]
  },
  {
   "cell_type": "code",
   "execution_count": 27,
   "metadata": {},
   "outputs": [
    {
     "name": "stdout",
     "output_type": "stream",
     "text": [
      "More than 33599 people are fatally shot every year.\n"
     ]
    }
   ],
   "source": [
    "total_death_number = df[(df['Intent'] == 'None selected') & (df['Gender'] == 'None selected')&\n",
    "                        (df['Age'] == 'None selected') & (df['Race'] == 'None selected')]['Deaths'].sum()\n",
    "print('More than %s people are fatally shot every year.'%total_death_number)"
   ]
  },
  {
   "cell_type": "code",
   "execution_count": 17,
   "metadata": {},
   "outputs": [
    {
     "name": "stdout",
     "output_type": "stream",
     "text": [
      "......\n"
     ]
    }
   ],
   "source": [
    "print('......')  #don't see the special reason of death......"
   ]
  },
  {
   "cell_type": "code",
   "execution_count": 29,
   "metadata": {},
   "outputs": [
    {
     "name": "stdout",
     "output_type": "stream",
     "text": [
      "62.67448435965356 percent of the gun death are suicides.\n"
     ]
    }
   ],
   "source": [
    "suicide_number = df[(df['Intent'] == 'Suicide') & (df['Gender'] == 'None selected')&\n",
    "                        (df['Age'] == 'None selected') & (df['Race'] == 'None selected')]['Deaths'].sum()\n",
    "ratio = 100*suicide_number/total_death_number\n",
    "print('%s percent of the gun death are suicides.'%ratio)"
   ]
  },
  {
   "cell_type": "code",
   "execution_count": 30,
   "metadata": {},
   "outputs": [
    {
     "name": "stdout",
     "output_type": "stream",
     "text": [
      "86.24750688574413 percent of the suicide victims are male\n"
     ]
    }
   ],
   "source": [
    "male_suicide_number = df[(df['Intent'] == 'Suicide') & (df['Gender'] == 'Male')&\n",
    "                        (df['Age'] == 'None selected') & (df['Race'] == 'None selected')]['Deaths'].sum()\n",
    "ratio = 100*male_suicide_number/suicide_number\n",
    "print('%s percent of the suicide victims are male'%ratio)"
   ]
  },
  {
   "cell_type": "code",
   "execution_count": 33,
   "metadata": {},
   "outputs": [
    {
     "name": "stdout",
     "output_type": "stream",
     "text": [
      "...and 75.29679931617437 percent of all suicides are men age 35 or older\n"
     ]
    }
   ],
   "source": [
    "male_old_suicide_number =df[(df['Intent'] == 'Suicide') & (df['Gender'] == 'None selected')&\n",
    "                        ((df['Age'] == '35 - 64') |(df['Age'] == '65+')) & (df['Race'] == 'None selected')]['Deaths'].sum()\n",
    "ratio = 100*male_old_suicide_number/suicide_number\n",
    "print('...and %s percent of all suicides are men age 35 or older'%ratio)"
   ]
  },
  {
   "cell_type": "code",
   "execution_count": 41,
   "metadata": {},
   "outputs": [
    {
     "name": "stdout",
     "output_type": "stream",
     "text": [
      "6993 gun deaths, 37.7 deaths per 100000 people.\n"
     ]
    }
   ],
   "source": [
    "def counting_sheep(intent = 'None selected', gender = 'None selected',\n",
    "                   age = 'None selected', race = 'None selected'):\n",
    "    group_number = df[(df['Intent'] == intent) & (df['Gender'] == gender)&\n",
    "                        (df['Age'] == age) & (df['Race'] == race)]['Population'].sum()\n",
    "    group_death_number = df[(df['Intent'] == intent) & (df['Gender'] == gender)&\n",
    "                        (df['Age'] == age) & (df['Race'] == race)]['Deaths'].sum()\n",
    "    prediction = 100000 * group_death_number/group_number\n",
    "    print('%s gun deaths, %.1f deaths per 100000 people.'%(group_death_number, prediction))\n",
    "    \n",
    "counting_sheep(gender = 'Male', race = 'Black')"
   ]
  },
  {
   "cell_type": "code",
   "execution_count": null,
   "metadata": {},
   "outputs": [],
   "source": []
  }
 ],
 "metadata": {
  "kernelspec": {
   "display_name": "Python 3",
   "language": "python",
   "name": "python3"
  },
  "language_info": {
   "codemirror_mode": {
    "name": "ipython",
    "version": 3
   },
   "file_extension": ".py",
   "mimetype": "text/x-python",
   "name": "python",
   "nbconvert_exporter": "python",
   "pygments_lexer": "ipython3",
   "version": "3.7.7"
  }
 },
 "nbformat": 4,
 "nbformat_minor": 4
}
